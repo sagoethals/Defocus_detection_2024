{
 "cells": [
  {
   "cell_type": "code",
   "execution_count": 1,
   "id": "ceca77a1",
   "metadata": {},
   "outputs": [],
   "source": [
    "rootF = 'D:/Data/Paper defocus/'"
   ]
  },
  {
   "cell_type": "code",
   "execution_count": 2,
   "id": "6ea6671e",
   "metadata": {},
   "outputs": [],
   "source": [
    "import matplotlib.pyplot as plt\n",
    "import numpy as np\n",
    "import pandas as pd\n",
    "import os.path\n",
    "from matplotlib.colors import ListedColormap\n",
    "from matplotlib import gridspec\n",
    "from matplotlib.gridspec import SubplotSpec\n",
    "import matplotlib.patches as pcs\n",
    "import seaborn as sns\n",
    "from mpl_toolkits.axes_grid1.anchored_artists import AnchoredSizeBar\n",
    "from scipy.interpolate import interp1d\n",
    "\n",
    "from shared.LSC_functions import *"
   ]
  },
  {
   "cell_type": "markdown",
   "id": "85149a92",
   "metadata": {},
   "source": [
    "# Simulations parameters"
   ]
  },
  {
   "cell_type": "markdown",
   "id": "e68564e6",
   "metadata": {},
   "source": [
    "## Emmetropic human"
   ]
  },
  {
   "cell_type": "code",
   "execution_count": 1,
   "id": "c6a8f566",
   "metadata": {},
   "outputs": [
    {
     "ename": "NameError",
     "evalue": "name 'rootF' is not defined",
     "output_type": "error",
     "traceback": [
      "\u001b[1;31m---------------------------------------------------------------------------\u001b[0m",
      "\u001b[1;31mNameError\u001b[0m                                 Traceback (most recent call last)",
      "Cell \u001b[1;32mIn[1], line 3\u001b[0m\n\u001b[0;32m      1\u001b[0m simulation \u001b[38;5;241m=\u001b[39m \u001b[38;5;124m'\u001b[39m\u001b[38;5;124mRem20240321_HumanSA_nufft\u001b[39m\u001b[38;5;124m'\u001b[39m\n\u001b[1;32m----> 3\u001b[0m imF \u001b[38;5;241m=\u001b[39m rootF \u001b[38;5;241m+\u001b[39m \u001b[38;5;124m'\u001b[39m\u001b[38;5;124m/Eye model simulations/convolved images/\u001b[39m\u001b[38;5;124m'\u001b[39m \u001b[38;5;241m+\u001b[39m \u001b[38;5;28mstr\u001b[39m(simulation) \u001b[38;5;241m+\u001b[39m \u001b[38;5;124m'\u001b[39m\u001b[38;5;124m/\u001b[39m\u001b[38;5;124m'\u001b[39m\n\u001b[0;32m      4\u001b[0m path_to_PSFs \u001b[38;5;241m=\u001b[39m rootF \u001b[38;5;241m+\u001b[39m \u001b[38;5;124m'\u001b[39m\u001b[38;5;124m/Eye model simulations/emmetropic human PSFs/\u001b[39m\u001b[38;5;124m'\u001b[39m \u001b[38;5;241m+\u001b[39m \u001b[38;5;28mstr\u001b[39m(simulation) \u001b[38;5;241m+\u001b[39m \u001b[38;5;124m'\u001b[39m\u001b[38;5;124m/\u001b[39m\u001b[38;5;124m'\u001b[39m\n",
      "\u001b[1;31mNameError\u001b[0m: name 'rootF' is not defined"
     ]
    }
   ],
   "source": [
    "simulation = 'Rem20240321_HumanSA_nufft'\n",
    "\n",
    "imF = rootF + '/Eye model simulations/convolved images/' + str(simulation) + '/'\n",
    "path_to_PSFs = rootF + '/Eye model simulations/emmetropic human PSFs/' + str(simulation) + '/'"
   ]
  },
  {
   "cell_type": "code",
   "execution_count": 4,
   "id": "062b1d6d",
   "metadata": {},
   "outputs": [
    {
     "name": "stdout",
     "output_type": "stream",
     "text": [
      "60 jobs in simulation Rem20240321_HumanSA_nufft\n",
      "Pup diams: [3 5 7]\n",
      "Source ecc: [ 0 10 20 30]\n",
      "Foveal defocus um: [-600 -540 -480 -420 -360 -300 -240 -180 -120  -60    0   60  120  180\n",
      "  240  300  360  420  480  540  600]\n"
     ]
    }
   ],
   "source": [
    "# Load job ids and optical conditions\n",
    "simulation_parameters = pd.read_csv(path_to_PSFs + 'JMfile.csv', sep=\";\")\n",
    "JobIds = simulation_parameters['JobId'].values\n",
    "\n",
    "# eye SA\n",
    "eye_SA_all = simulation_parameters['c04tg'].values\n",
    "eye_SAs = np.unique(eye_SA_all)\n",
    "# pup diams\n",
    "pup_diam_all = simulation_parameters['pupDiam_mm'].values\n",
    "pup_diams = np.unique(pup_diam_all)\n",
    "# source eccentricity\n",
    "sources_ecc_all = simulation_parameters['sourceEccen_deg'].values\n",
    "sources_ecc = np.unique(sources_ecc_all)\n",
    "# foveal defocus\n",
    "offset_file = pd.read_csv(path_to_PSFs + 'offset.csv', sep=\";\")\n",
    "offset_um = offset_file['offset_um'].values\n",
    "offset_um_idx = offset_file['Index'].values\n",
    "offset_diopters = offset_file['defoc_diopter'].values\n",
    "\n",
    "print (len(JobIds), 'jobs in simulation', simulation)\n",
    "print ('Pup diams:', pup_diams)\n",
    "print ('Source ecc:', sources_ecc)\n",
    "print ('Foveal defocus um:', offset_um)\n",
    "\n",
    "Ndfs = len(offset_um)\n",
    "Npup = len(pup_diams)\n",
    "NsrcEcc = len(sources_ecc)\n",
    "NSA = len(eye_SAs)\n",
    "\n",
    "# Original images\n",
    "Imgs = ['1','2','3','5']\n",
    "Nimgs = len(Imgs)"
   ]
  },
  {
   "cell_type": "code",
   "execution_count": 5,
   "id": "76f9e798",
   "metadata": {},
   "outputs": [
    {
     "name": "stdout",
     "output_type": "stream",
     "text": [
      "-0.20689655172414 60\n",
      "180 -0.62068965517241\n",
      "At 200 µm: -0.6806596701649144 D\n"
     ]
    }
   ],
   "source": [
    "delta_diopter = offset_diopters[11]\n",
    "delta_um = offset_um[11]\n",
    "\n",
    "print (delta_diopter, delta_um)\n",
    "\n",
    "delta_1um = delta_diopter/69\n",
    "lim_in_diopters = offset_diopters[13] + 20*delta_1um\n",
    "\n",
    "print (offset_um[13], offset_diopters[13])\n",
    "print ('At 200 µm:', lim_in_diopters, 'D')"
   ]
  },
  {
   "cell_type": "markdown",
   "id": "fc258c1b",
   "metadata": {},
   "source": [
    "# Load measures"
   ]
  },
  {
   "cell_type": "code",
   "execution_count": 6,
   "id": "d71dbae8",
   "metadata": {},
   "outputs": [
    {
     "name": "stdout",
     "output_type": "stream",
     "text": [
      "[-240 -180 -120  -60    0   60  120  180  240]\n"
     ]
    }
   ],
   "source": [
    "FovDefocus_indices = np.arange(6,15,1)\n",
    "\n",
    "print (offset_um[FovDefocus_indices])"
   ]
  },
  {
   "cell_type": "markdown",
   "id": "75671f26",
   "metadata": {},
   "source": [
    "## Spherical aberrations"
   ]
  },
  {
   "cell_type": "markdown",
   "id": "1fe2281d",
   "metadata": {},
   "source": [
    "### 500 images"
   ]
  },
  {
   "cell_type": "code",
   "execution_count": 7,
   "id": "9cb17f42",
   "metadata": {},
   "outputs": [
    {
     "data": {
      "text/plain": [
       "(500, 5, 4, 21)"
      ]
     },
     "execution_count": 7,
     "metadata": {},
     "output_type": "execute_result"
    }
   ],
   "source": [
    "# Load data with SA\n",
    "\n",
    "data = np.load(rootF + \"/contrast analysis/LSC_\" + simulation + \"_0_500imgs_RF120um_pup5mm_Linux.npz\")\n",
    "\n",
    "local_contrasts = data['contrast']\n",
    "mean_intensities = data['intensity']\n",
    "images = data['images']\n",
    "\n",
    "delta_contrast = local_contrasts[:,:,:,FovDefocus_indices[-1]]- local_contrasts[:,:,:,FovDefocus_indices[0]]\n",
    "\n",
    "local_contrasts.shape"
   ]
  },
  {
   "cell_type": "markdown",
   "id": "63cb10d4",
   "metadata": {},
   "source": [
    "### 4 images from experiments"
   ]
  },
  {
   "cell_type": "code",
   "execution_count": 8,
   "id": "054cefec",
   "metadata": {},
   "outputs": [
    {
     "data": {
      "text/plain": [
       "(1, 4, 5, 4, 21)"
      ]
     },
     "execution_count": 8,
     "metadata": {},
     "output_type": "execute_result"
    }
   ],
   "source": [
    "local_contrasts_4imgs = np.load(rootF + \"/contrast analysis/\" + simulation + \"_local_contrast_2sigma_liu2022.pkl\", allow_pickle=True)\n",
    "mean_intensity_4imgs = np.load(rootF + \"/contrast analysis/\" + simulation + \"_mean_intensities_2sigma_liu2022.pkl\", allow_pickle=True)\n",
    "\n",
    "local_contrasts_4imgs.shape # Cen, Imgs, SAs, Eccs, dfs"
   ]
  },
  {
   "cell_type": "markdown",
   "id": "b4d7096a",
   "metadata": {},
   "source": [
    "## Near vision"
   ]
  },
  {
   "cell_type": "markdown",
   "id": "4bafdb15",
   "metadata": {},
   "source": [
    "### 500 images"
   ]
  },
  {
   "cell_type": "code",
   "execution_count": 9,
   "id": "d2dd543c",
   "metadata": {},
   "outputs": [
    {
     "data": {
      "text/plain": [
       "(500, 5, 2, 4, 21)"
      ]
     },
     "execution_count": 9,
     "metadata": {},
     "output_type": "execute_result"
    }
   ],
   "source": [
    "simulation_nv = 'Rem20240425_HumanSA_nufft_+4DAcc'\n",
    "focus_prox = [2.5, 4]\n",
    "\n",
    "data_nv = np.load(rootF + \"/contrast analysis/LSC_\" + simulation_nv + \"_0_500imgs_RF120um_pup5mm_Linux.npz\")\n",
    "\n",
    "local_contrasts_nv = data_nv['contrast']\n",
    "mean_intensities_nv = data_nv['intensity']\n",
    "images_nv = data_nv['images']\n",
    "\n",
    "delta_contrast_nv = local_contrasts_nv[:,:,:,:,FovDefocus_indices[-1]]- \\\n",
    "                    local_contrasts_nv[:,:,:,:,FovDefocus_indices[0]]\n",
    "\n",
    "local_contrasts_nv.shape"
   ]
  },
  {
   "cell_type": "markdown",
   "id": "e2208f11",
   "metadata": {},
   "source": [
    "### 4 images from experiments"
   ]
  },
  {
   "cell_type": "code",
   "execution_count": 10,
   "id": "0209eec2",
   "metadata": {},
   "outputs": [
    {
     "data": {
      "text/plain": [
       "(1, 4, 5, 2, 4, 21)"
      ]
     },
     "execution_count": 10,
     "metadata": {},
     "output_type": "execute_result"
    }
   ],
   "source": [
    "local_contrasts_4imgs_nv = np.load(rootF + \"/contrast analysis/\" + simulation_nv + \"_local_contrast_2sigma_liu2022.pkl\", allow_pickle=True)\n",
    "mean_intensity_4imgs_nv = np.load(rootF + \"/contrast analysis/\" + simulation_nv + \"_mean_intensities_2sigma_liu2022.pkl\", allow_pickle=True)\n",
    "\n",
    "local_contrasts_4imgs_nv.shape # Cen, Imgs, SAs, Prox, Eccs, dfs"
   ]
  },
  {
   "cell_type": "markdown",
   "id": "4eed50ef",
   "metadata": {},
   "source": [
    "# Figure paper"
   ]
  },
  {
   "cell_type": "code",
   "execution_count": 11,
   "id": "f40cec52",
   "metadata": {},
   "outputs": [
    {
     "name": "stdout",
     "output_type": "stream",
     "text": [
      "SA 0 61\n",
      "no SA 0 473\n",
      "SA 2 60\n",
      "no SA 2 127\n"
     ]
    },
    {
     "data": {
      "image/png": "[encoded data removed]",
      "text/plain": [
       "<Figure size 400x900 with 10 Axes>"
      ]
     },
     "metadata": {},
     "output_type": "display_data"
    }
   ],
   "source": [
    "cols = ['C0','C1','C2','C3']\n",
    "colors_sa = ['grey', 'lightgrey']\n",
    "retina_ecc = ['Center', 'Periphery']\n",
    "\n",
    "iCen = 0\n",
    "idx_ref = 0\n",
    "\n",
    "true_eye_SAs = [0.0, 0.078]\n",
    "\n",
    "fig = plt.figure(figsize=(4,9))\n",
    "GS = fig.add_gridspec(3, 2, height_ratios = [1,1,3])\n",
    "\n",
    "##### Blank space for eye model illustration\n",
    "\n",
    "ax = fig.add_subplot(GS[0,:])\n",
    "ax.set_xlim(0,1)\n",
    "ax.set_ylim(0,1)\n",
    "ax.axis('off')\n",
    "ax.text(-0.19, 1, 'A', color='k', fontsize = 12, weight='bold')\n",
    "\n",
    "### PSFs\n",
    "\n",
    "gs = gridspec.GridSpecFromSubplotSpec(1, 3, subplot_spec=GS[1,:], wspace = 0.2, hspace=0.1)\n",
    "\n",
    "SA = 0.18\n",
    "iEcc = 0\n",
    "ecc = sources_ecc[iEcc]\n",
    "job_id = JobIds[np.where((simulation_parameters['pupDiam_mm'] == 5) & \\\n",
    "                      (simulation_parameters['sourceEccen_deg'] == ecc) & \\\n",
    "                      (simulation_parameters['c04tg'] == SA))[0]][0]\n",
    "\n",
    "for iDf in [6,10,14]: \n",
    "    psf = np.load(path_to_PSFs + 'polychromatic_PSF_Job' + str(int(job_id)).zfill(6) + '_offset' + str(iDf) +\\\n",
    "                       '.npy')\n",
    "    if iDf == 6:\n",
    "        ax = fig.add_subplot(gs[0])\n",
    "        ax.text(-40, 512-128, 'B', color='k', fontsize = 12, weight='bold')\n",
    "    else:\n",
    "        ax = fig.add_subplot(gs[int(iDf/6)])\n",
    "    ax.imshow(np.log(psf+1), origin='lower',cmap='Greys_r')\n",
    "    ax.set_yticks([])\n",
    "    ax.set_xticks([])\n",
    "    ax.set_xlim(128, 512-128)\n",
    "    ax.set_ylim(128, 512-128)\n",
    "    # Scale bar\n",
    "    if iDf == 6:\n",
    "        scalebar = AnchoredSizeBar(ax.transData,50, '', 'upper left',pad=1,color='white',frameon=False, sep=5, \\\n",
    "                       size_vertical=2)\n",
    "        ax.add_artist(scalebar)\n",
    "        \n",
    "### Exmaple of LSC vs defocus\n",
    "\n",
    "gs = gridspec.GridSpecFromSubplotSpec(3, 2, subplot_spec=GS[2,:], wspace = 0.5, hspace=0.7)\n",
    "\n",
    "iPup = 1\n",
    "iEcc = 0\n",
    "\n",
    "ax = fig.add_subplot(gs[0,0])\n",
    "ax.axvline(0, color='k',ls='--',alpha=0.3)\n",
    "for iImg in [0,2,3]:\n",
    "    ax.plot(offset_um, local_contrasts_4imgs[iCen,iImg,4,iEcc,:], '-', color=cols[iImg])\n",
    "ax.set_ylim(0, 0.22)\n",
    "ax.set_xlim(-200,200)\n",
    "ax.spines['top'].set_visible(False)\n",
    "ax.spines['right'].set_visible(False)\n",
    "ax.set_ylabel('LSC')\n",
    "ax.set_xlabel('Defocus (µm)')\n",
    "ax.set_title('SA = 0.078 µm')\n",
    "ax.text(-385, 0.24, 'C', color='k', fontsize = 12, weight='bold')\n",
    "\n",
    "ax = fig.add_subplot(gs[0,1])\n",
    "ax.axvline(0, color='k',ls='--',alpha=0.3)\n",
    "for iImg in [0,2,3]:\n",
    "    ax.plot(offset_um, local_contrasts_4imgs[iCen,iImg,0,iEcc,:], '-', color=cols[iImg])\n",
    "ax.set_ylim(0, 0.22)\n",
    "ax.set_xlim(-200,200)\n",
    "ax.spines['top'].set_visible(False)\n",
    "ax.spines['right'].set_visible(False)\n",
    "ax.set_xlabel('Defocus (µm)')\n",
    "ax.set_title('SA = 0 µm')\n",
    "ax.set_yticklabels([])\n",
    "\n",
    "### Distributions\n",
    "\n",
    "lim_inf = -0.12\n",
    "lim_sup = 0.05\n",
    "bin_size = 0.005\n",
    "n_bins = int((lim_sup-lim_inf)/bin_size)\n",
    "bins = np.arange(lim_inf, lim_sup, bin_size)\n",
    "\n",
    "for iEcc in [0,2]:\n",
    "    ax = fig.add_subplot(gs[1,int(iEcc/2)])\n",
    "    ax.axvline(0, color='k',ls='--',alpha=0.3)\n",
    "    # Normal SA\n",
    "    ax.hist(delta_contrast[:,4,iEcc], bins=bins, color='grey', alpha=0.5, label = 'SA') #, color=colors[int(iEcc/2)])\n",
    "    print ('SA', iEcc, max(np.histogram(np.array(delta_contrast[:,4,iEcc]), bins=bins)[0]))\n",
    "    # No SA\n",
    "    ax.hist(delta_contrast[:,0,iEcc], bins=bins, color='purple', alpha=0.5, label = 'no SA')\n",
    "    print ('no SA', iEcc, max(np.histogram(np.array(delta_contrast[:,0,iEcc]), bins=bins)[0]))\n",
    "    ax.set_xlabel('$\\Delta$ LSC')\n",
    "    ax.set_xlim(-0.12,0.05)\n",
    "    ax.set_ylim(0, 150)\n",
    "    ax.spines['top'].set_visible(False)\n",
    "    ax.spines['right'].set_visible(False)\n",
    "    ax.set_title(retina_ecc[int(iEcc/2)])\n",
    "    if iEcc == 0:\n",
    "        ax.text(-0.200, 162.5, 'D', color='k', fontsize = 12, weight='bold')\n",
    "        ax.set_ylabel('# images')\n",
    "        ax.set_yticks([0,50,100,150])\n",
    "        ax.set_yticklabels(['0', '50', '100', '473'])\n",
    "        ax.legend(frameon=False, fontsize=8, loc = 'upper left')\n",
    "\n",
    "### Near vision\n",
    "\n",
    "iPup = 1\n",
    "iEcc = 0\n",
    "iProx = 0\n",
    "iSA = 4\n",
    "\n",
    "ax = fig.add_subplot(gs[2,0])\n",
    "ax.axvline(0, color='k',ls='--',alpha=0.3)\n",
    "for iImg in [0,2,3]:\n",
    "    ax.plot(offset_um, local_contrasts_4imgs_nv[iCen,iImg,iSA,iProx,iEcc,:], '-', color=cols[iImg])\n",
    "ax.set_ylim(0, 0.22)\n",
    "ax.set_xlim(-200,200)\n",
    "ax.spines['top'].set_visible(False)\n",
    "ax.spines['right'].set_visible(False)\n",
    "ax.set_ylabel('LSC')\n",
    "ax.set_xlabel('Defocus (µm)')\n",
    "ax.set_title('Near vision')\n",
    "ax.text(-385, 0.24, 'E', color='k', fontsize = 12, weight='bold')\n",
    "\n",
    "iEcc = 0\n",
    "iSA = 4\n",
    "iProx = 0\n",
    "ax = fig.add_subplot(gs[2,1])\n",
    "ax.axvline(0, color='k',ls='--',alpha=0.3)\n",
    "# far vision\n",
    "ax.hist(delta_contrast[:,iSA,iEcc], bins=bins, color='grey', alpha=0.5, label = 'far')\n",
    "# near vision\n",
    "ax.hist(delta_contrast_nv[:,iSA,iProx,iEcc], bins=bins, color='C1', alpha=0.5, label = 'near') #, color=colors[int(iEcc/2)])\n",
    "ax.set_xlabel('$\\Delta$ LSC')\n",
    "ax.set_xlim(-0.12,0.05)\n",
    "ax.set_ylim(0, 150)\n",
    "ax.spines['top'].set_visible(False)\n",
    "ax.spines['right'].set_visible(False)\n",
    "ax.set_ylabel('# images', labelpad=0)\n",
    "ax.legend(frameon=False, fontsize=8, loc = 'upper left')\n",
    "ax.text(-0.195, 162.5, 'F', color='k', fontsize = 12, weight='bold')\n",
    "\n",
    "plt.tight_layout()\n",
    "plt.show()\n",
    "\n",
    "fsave = 'T:/Documents/Papier defocus/figures/papier/'\n",
    "# fig.savefig(fsave + 'Fig6_raw.png', format='png', dpi=300, bbox_inches='tight') "
   ]
  }
 ],
 "metadata": {
  "kernelspec": {
   "display_name": "Python 3 (ipykernel)",
   "language": "python",
   "name": "python3"
  },
  "language_info": {
   "codemirror_mode": {
    "name": "ipython",
    "version": 3
   },
   "file_extension": ".py",
   "mimetype": "text/x-python",
   "name": "python",
   "nbconvert_exporter": "python",
   "pygments_lexer": "ipython3",
   "version": "3.11.5"
  },
  "vscode": {
   "interpreter": {
    "hash": "c7b198c0a426d7298fddf8cb5f508b6bbbfc9c73f903b8c9c1d571059dc9c338"
   }
  }
 },
 "nbformat": 4,
 "nbformat_minor": 5
}

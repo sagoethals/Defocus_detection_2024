{
 "cells": [
  {
   "cell_type": "markdown",
   "id": "2911e0af",
   "metadata": {},
   "source": [
    "For this analysis, we use the cells that were used for the typing, as we are sure that they have a proper spatial STA (needed for LSC measure)."
   ]
  },
  {
   "cell_type": "code",
   "execution_count": 1,
   "id": "7b4016d0",
   "metadata": {},
   "outputs": [],
   "source": [
    "rootF = 'C:/Users/Sarah/Documents/Myopia/Data analysis/Myopic mice/'"
   ]
  },
  {
   "cell_type": "code",
   "execution_count": 2,
   "id": "7d8a390d",
   "metadata": {},
   "outputs": [],
   "source": [
    "import os as os\n",
    "import sys\n",
    "import numpy as np\n",
    "import csv\n",
    "import pickle as pickle\n",
    "import pandas as pd\n",
    "\n",
    "# Plotting\n",
    "import matplotlib.pyplot as plt\n",
    "import matplotlib.patches as pcs\n",
    "from skimage.transform import rescale, resize, downscale_local_mean\n",
    "import seaborn as sns\n",
    "from matplotlib.patches import Ellipse\n",
    "\n",
    "# Import functions\n",
    "from shared.functions import plot_scale_bar, load_image_as_on_MEA\n",
    "from shared.LSC_functions import local_spatial_contrast\n",
    "from shared.save_load import load_obj, save_obj"
   ]
  },
  {
   "cell_type": "code",
   "execution_count": 3,
   "id": "d3a40ccb",
   "metadata": {},
   "outputs": [],
   "source": [
    "exp = 20240222\n",
    "\n",
    "# Experiment conditions\n",
    "from shared.parameters_stimulation2 import *\n",
    "pixel_size_um = 3.5\n",
    "pixel_per_check = 12\n",
    "nb_checks = 60"
   ]
  },
  {
   "cell_type": "markdown",
   "id": "d20bbe9e",
   "metadata": {},
   "source": [
    "# Load data"
   ]
  },
  {
   "cell_type": "code",
   "execution_count": 31,
   "id": "8e6a1e66",
   "metadata": {},
   "outputs": [],
   "source": [
    "path_to_original_images = rootF + '/Eye model simulations/original images/'\n",
    "imF = rootF + '/Eye model simulations/convolved images/'\n",
    "path_to_PSFs =  rootF + '/Eye model simulations/mouse PSFs/'"
   ]
  },
  {
   "cell_type": "markdown",
   "id": "f6996560",
   "metadata": {},
   "source": [
    "##### STAs"
   ]
  },
  {
   "cell_type": "code",
   "execution_count": 32,
   "id": "91a5634e",
   "metadata": {},
   "outputs": [],
   "source": [
    "cell_data = load_obj(rootF + 'MEA/exp' + str(exp) + '/cells_characterization_data_' + str(exp))\n",
    "\n",
    "data_clusters = list(cell_data.keys())"
   ]
  },
  {
   "cell_type": "markdown",
   "id": "8f15461f",
   "metadata": {},
   "source": [
    "##### Select STA"
   ]
  },
  {
   "cell_type": "code",
   "execution_count": null,
   "id": "a5150c1f",
   "metadata": {},
   "outputs": [],
   "source": [
    "results_path = rootF + '/MEA/exp' + str(exp) + '/'\n",
    "    \n",
    "cluster_selection = pd.read_excel(results_path + str(exp) + '_cluster_selection.xlsx', header=0)\n",
    "\n",
    "cluster_names = cluster_selection['Cluster']\n",
    "defined_STA = cluster_selection['Comments']\n",
    "STA_start = cluster_selection['Spatial STA']\n",
    "STA_end = cluster_selection['Sp STA END']\n",
    "\n",
    "skip_cells = [] # very low firing rate during chirp\n",
    "\n",
    "# Select \"YES\" cells with a spatial STA\n",
    "selected_cells = []\n",
    "which_STA = []\n",
    "\n",
    "for i in range(len(cluster_names)):\n",
    "    if cluster_names[i] not in skip_cells and defined_STA[i] != 'no STA':\n",
    "        if STA_start[i] == 0:\n",
    "            print (cluster_names[i], 'end')\n",
    "            which_STA.append('end')\n",
    "            selected_cells.append(cluster_names[i])\n",
    "        else:\n",
    "            print (cluster_names[i], 'start')\n",
    "            which_STA.append('start')\n",
    "            selected_cells.append(cluster_names[i])\n",
    "            \n",
    "        \n",
    "print (len(selected_cells), 'good cells!')"
   ]
  },
  {
   "cell_type": "markdown",
   "id": "53e314cd",
   "metadata": {},
   "source": [
    "##### Cells with defined STA"
   ]
  },
  {
   "cell_type": "code",
   "execution_count": 34,
   "id": "ddb842c4",
   "metadata": {},
   "outputs": [
    {
     "name": "stdout",
     "output_type": "stream",
     "text": [
      "143 cells were typed\n"
     ]
    }
   ],
   "source": [
    "exp_path = rootF + '/MEA/exp' + str(exp) + '/'\n",
    "\n",
    "cells_clustering = load_obj(exp_path + str(exp) + '_selected_cells_clustering')\n",
    "cells_clustering = np.array(cells_clustering)\n",
    "\n",
    "print (len(cells_clustering), 'cells were typed')"
   ]
  },
  {
   "cell_type": "markdown",
   "id": "69203756",
   "metadata": {},
   "source": [
    "# Local contrast and mean intensity in blurred images"
   ]
  },
  {
   "cell_type": "code",
   "execution_count": 36,
   "id": "0a9ab4fe",
   "metadata": {},
   "outputs": [
    {
     "name": "stdout",
     "output_type": "stream",
     "text": [
      "Calculating predictions...\n",
      "5\n",
      "8\n",
      "13\n",
      "15\n",
      "18\n",
      "47\n",
      "48\n",
      "54\n",
      "89\n",
      "96\n",
      "117\n",
      "122\n",
      "134\n",
      "137\n",
      "141\n",
      "148\n",
      "152\n",
      "160\n",
      "169\n",
      "177\n",
      "201\n",
      "215\n",
      "218\n",
      "221\n",
      "230\n",
      "233\n",
      "240\n",
      "248\n",
      "255\n",
      "269\n",
      "271\n",
      "272\n",
      "273\n",
      "274\n",
      "281\n",
      "282\n",
      "284\n",
      "295\n",
      "301\n",
      "308\n",
      "311\n",
      "320\n",
      "326\n",
      "329\n",
      "330\n",
      "345\n",
      "347\n",
      "355\n",
      "356\n",
      "368\n",
      "389\n",
      "394\n",
      "396\n",
      "398\n",
      "404\n",
      "406\n",
      "410\n",
      "415\n",
      "420\n",
      "422\n",
      "424\n",
      "425\n",
      "451\n",
      "454\n",
      "462\n",
      "469\n",
      "482\n",
      "498\n",
      "508\n",
      "510\n",
      "540\n",
      "550\n",
      "553\n",
      "556\n",
      "557\n",
      "558\n",
      "562\n",
      "565\n",
      "569\n",
      "571\n",
      "577\n",
      "578\n",
      "580\n",
      "583\n",
      "585\n",
      "586\n",
      "589\n",
      "590\n",
      "596\n",
      "598\n",
      "600\n",
      "609\n",
      "620\n",
      "642\n",
      "657\n",
      "663\n",
      "689\n",
      "700\n",
      "704\n",
      "719\n",
      "733\n",
      "741\n",
      "744\n",
      "759\n",
      "765\n",
      "777\n",
      "791\n",
      "798\n",
      "817\n",
      "829\n",
      "832\n",
      "856\n",
      "878\n",
      "880\n",
      "900\n",
      "903\n",
      "906\n",
      "921\n",
      "923\n",
      "928\n",
      "929\n",
      "936\n",
      "937\n",
      "943\n",
      "944\n",
      "947\n",
      "951\n",
      "957\n",
      "962\n",
      "964\n",
      "966\n",
      "970\n",
      "975\n",
      "976\n",
      "979\n",
      "982\n",
      "990\n",
      "998\n",
      "1005\n",
      "1010\n",
      "1018\n",
      "1030\n",
      "1039\n"
     ]
    }
   ],
   "source": [
    "pred_path = rootF + '/contrast analysis/local_contrast_2sigma_liu2022_exp' + str(exp) \n",
    "\n",
    "if exp == 20211129:\n",
    "    skip_cells = [45, 80, 188, 192, 401, 408, 422, 525, 533, 558, 561, 614, 682]\n",
    "elif exp == 20211207:\n",
    "    skip_cells = [33, 52, 145, 302, 340, 406, 414, 515]\n",
    "elif exp == 20211208:\n",
    "    skip_cells = [99,100,276,407,424,452,472,498] # also 407, 452, 472 because too small ellipses\n",
    "elif exp == 20221213:\n",
    "    skip_cells = [55, 180, 232, 294, 339, 365, 563, 570, 665, 680]\n",
    "elif exp == 20221214:\n",
    "    skip_cells = [40, 190, 332, 957]\n",
    "elif exp == 20230105:\n",
    "    skip_cells = [15, 96, 177, 221, 274, 320, 326, 389, 498, 558, 571, 689, 700, 791, 832, 856, 923, 928, 1018]\n",
    "\n",
    "# Load ellipse points within the 2sigma contour\n",
    "ell_path = rootF + '/contrast analysis/ellipses_data_with_weights_2sigma_' + str(exp) \n",
    "\n",
    "ellipse_data_2s = load_obj(ell_path + '.pkl')\n",
    "\n",
    "if os.path.isfile(pred_path + '.pkl'):\n",
    "    print ('Loading predictions')\n",
    "    local_contrasts = load_obj(pred_path + '.pkl')\n",
    "    mean_intensities = load_obj(rootF + '/contrast analysis/mean_intensities_2sigma_liu2022_exp' + str(exp) + '.pkl')\n",
    "else:\n",
    "    print ('Calculating predictions...')\n",
    "\n",
    "    local_contrasts = np.empty((len(cells_clustering),Nimgs,NpupDiams,Nsources,NdFs))\n",
    "    mean_intensities = np.empty((len(cells_clustering),Nimgs,NpupDiams,Nsources,NdFs))\n",
    "\n",
    "    for index in range(len(cells_clustering)):\n",
    "        cell_nb = cells_clustering[index]\n",
    "        print (cell_nb)\n",
    "        if cell_nb in selected_cells and cell_nb not in skip_cells:\n",
    "            ### Get ellipse points\n",
    "            if exp in [20221213, 20221214, 20230105]:\n",
    "                cell_nb = str(cell_nb)\n",
    "            ellipsepoints = ellipse_data_2s[cell_nb]['ellipse_points']\n",
    "            weights = ellipse_data_2s[cell_nb]['weights']\n",
    "            ### Local contrast for each image\n",
    "            for iImg in range(Nimgs):\n",
    "                for iPup in range(NpupDiams):\n",
    "                    for iEcc in range(Nsources):\n",
    "                        for iDf in range(NdFs):\n",
    "                            df = dFs[iDf]\n",
    "                            # load blurred image\n",
    "                            im = load_image_as_on_MEA(imF + 'image_{}pupDiam={}_dF='.format(Imgs[iImg], pupDiams[iPup]) \\\n",
    "                                            + df + 'Source_{}.png'.format(sources[iEcc]))\n",
    "                            \n",
    "                            ellipse_weights = weights[ellipsepoints[:,1], ellipsepoints[:,0]]\n",
    "                            mean_int, lsc = local_spatial_contrast(im, ellipsepoints, ellipse_weights)\n",
    "                            \n",
    "                            mean_intensities[index,iImg,iPup,iEcc,iDf] = mean_int\n",
    "                            local_contrasts[index,iImg,iPup,iEcc,iDf] = lsc"
   ]
  },
  {
   "cell_type": "code",
   "execution_count": 37,
   "id": "9ca92b20",
   "metadata": {},
   "outputs": [],
   "source": [
    "### Save predictions\n",
    "save_path = rootF + '/contrast analysis/' \n",
    "                \n",
    "\n",
    "save_obj(local_contrasts, save_path + '/local_contrast_2sigma_liu2022_exp' + str(exp))\n",
    "\n",
    "save_obj(mean_intensities, save_path + '/mean_intensities_2sigma_liu2022_exp' + str(exp))"
   ]
  },
  {
   "cell_type": "code",
   "execution_count": null,
   "id": "9d49d220",
   "metadata": {},
   "outputs": [],
   "source": []
  }
 ],
 "metadata": {
  "kernelspec": {
   "display_name": "Python 3 (ipykernel)",
   "language": "python",
   "name": "python3"
  },
  "language_info": {
   "codemirror_mode": {
    "name": "ipython",
    "version": 3
   },
   "file_extension": ".py",
   "mimetype": "text/x-python",
   "name": "python",
   "nbconvert_exporter": "python",
   "pygments_lexer": "ipython3",
   "version": "3.11.5"
  },
  "vscode": {
   "interpreter": {
    "hash": "c7b198c0a426d7298fddf8cb5f508b6bbbfc9c73f903b8c9c1d571059dc9c338"
   }
  }
 },
 "nbformat": 4,
 "nbformat_minor": 5
}

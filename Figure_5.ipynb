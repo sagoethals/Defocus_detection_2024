{
 "cells": [
  {
   "cell_type": "code",
   "execution_count": 1,
   "id": "7b4016d0",
   "metadata": {},
   "outputs": [],
   "source": [
    "rootF = 'D:/Data/Paper defocus/'"
   ]
  },
  {
   "cell_type": "code",
   "execution_count": 2,
   "id": "7d8a390d",
   "metadata": {},
   "outputs": [],
   "source": [
    "import os as os\n",
    "import sys\n",
    "import numpy as np\n",
    "import pandas as pd\n",
    "from scipy.stats import linregress\n",
    "\n",
    "# Plotting\n",
    "import matplotlib.pyplot as plt\n",
    "import seaborn as sns\n",
    "from matplotlib import gridspec\n",
    "from matplotlib.gridspec import SubplotSpec\n",
    "from mpl_toolkits.axes_grid1.anchored_artists import AnchoredSizeBar\n",
    "\n",
    "from shared.save_load import load_obj, save_obj"
   ]
  },
  {
   "cell_type": "code",
   "execution_count": 3,
   "id": "d3a40ccb",
   "metadata": {},
   "outputs": [],
   "source": [
    "experiments = [20211129, 20211207, 20211208, 20221213, 20221214, 20230105]\n",
    "\n",
    "# Experiment conditions\n",
    "from shared.parameters_stimulation2 import *\n",
    "pixel_size_um = 3.5\n",
    "pixel_per_check = 12\n",
    "nb_checks = 60\n",
    "\n",
    "mouse_dF_to_um_ratio = -5 #um\n",
    "mouse_offset = np.linspace(40,-40,9) * mouse_dF_to_um_ratio\n",
    "images = ['1','2','3','5']"
   ]
  },
  {
   "cell_type": "markdown",
   "id": "d20bbe9e",
   "metadata": {},
   "source": [
    "# Load data"
   ]
  },
  {
   "cell_type": "code",
   "execution_count": 4,
   "id": "8e6a1e66",
   "metadata": {},
   "outputs": [],
   "source": [
    "path_to_original_images = rootF + '/Eye model simulations/original images/'"
   ]
  },
  {
   "cell_type": "markdown",
   "id": "69203756",
   "metadata": {},
   "source": [
    "### LSC and mean intensity"
   ]
  },
  {
   "cell_type": "markdown",
   "id": "b86eaefb",
   "metadata": {},
   "source": [
    "#### 4 images experiments"
   ]
  },
  {
   "cell_type": "code",
   "execution_count": 5,
   "id": "0a9ab4fe",
   "metadata": {},
   "outputs": [
    {
     "name": "stdout",
     "output_type": "stream",
     "text": [
      "20211129 (68, 4, 2, 4, 9)\n",
      "20211207 (112, 4, 2, 4, 9)\n",
      "20211208 (113, 4, 2, 4, 9)\n",
      "20221213 (56, 4, 2, 4, 9)\n",
      "20221214 (81, 4, 2, 4, 9)\n",
      "20230105 (143, 4, 2, 4, 9)\n"
     ]
    }
   ],
   "source": [
    "local_spatial_contrast_all_exps = []\n",
    "mean_intensity_all_exps = []\n",
    "\n",
    "for iExp in range(len(experiments)):\n",
    "    exp = experiments[iExp]\n",
    "\n",
    "    local_contrasts = load_obj(rootF + 'contrast analysis/local_contrast_2sigma_liu2022_exp' + str(exp) + '.pkl')\n",
    "    mean_intensities = load_obj(rootF + '/contrast analysis/mean_intensities_2sigma_liu2022_exp' + str(exp) + '.pkl')\n",
    "    print (exp, local_contrasts.shape)\n",
    "    \n",
    "    local_spatial_contrast_all_exps.append(local_contrasts)\n",
    "    mean_intensity_all_exps.append(mean_intensities)"
   ]
  },
  {
   "cell_type": "markdown",
   "id": "4bb1f3b2",
   "metadata": {},
   "source": [
    "#### Varying SA"
   ]
  },
  {
   "cell_type": "code",
   "execution_count": 12,
   "id": "4f3bee98",
   "metadata": {},
   "outputs": [
    {
     "name": "stdout",
     "output_type": "stream",
     "text": [
      "48 jobs in simulation Rem20240325_MouseSA\n",
      "Spherical aberrations: [0.   0.15 0.45 0.6 ]\n",
      "Pup diams: [0.8 1.4 1.5]\n",
      "Source ecc: [ 0 10 20 30]\n",
      "Foveal defocus: [ 40.  30.  20.  10.  -0. -10. -20. -30. -40.]\n"
     ]
    }
   ],
   "source": [
    "simulation = 'Rem20240325_MouseSA'\n",
    "\n",
    "# Simulation parameters\n",
    "path_to_PSFs = rootF + \"/Eye model simulations/mouse PSFs/\" + simulation + \"/\"\n",
    "\n",
    "# Load job ids and optical conditions\n",
    "simulation_parameters = pd.read_csv(path_to_PSFs + 'JMfile.csv', sep=\";\")\n",
    "JobIds = simulation_parameters['JobId'].values\n",
    "# eye SA\n",
    "eye_SA_all = simulation_parameters['c04tg'].values\n",
    "eye_SAs = np.unique(eye_SA_all)\n",
    "# pup diams\n",
    "pup_diam_all = simulation_parameters['pupDiam_mm'].values\n",
    "pup_diams = np.unique(pup_diam_all)\n",
    "# source eccentricity\n",
    "sources_ecc_all = simulation_parameters['sourceEccen_deg'].values\n",
    "sources_ecc = np.unique(sources_ecc_all)\n",
    "# foveal defocus\n",
    "offset_file = pd.read_csv(path_to_PSFs + 'offset.csv', sep=\";\")\n",
    "offset_diopter = offset_file['defoc_diopter'].values\n",
    "offset_diopter_idx = offset_file['Index'].values\n",
    "\n",
    "print (len(JobIds), 'jobs in simulation', simulation)\n",
    "print ('Spherical aberrations:', eye_SAs)\n",
    "print ('Pup diams:', pup_diams)\n",
    "print ('Source ecc:', sources_ecc)\n",
    "print ('Foveal defocus:', offset_diopter)\n",
    "\n",
    "NSA = len(eye_SAs)\n",
    "Ndfs = len(offset_diopter)\n",
    "Npup = len(pup_diams)\n",
    "NsrcEcc = len(sources_ecc)\n",
    "\n",
    "mouse_dF_to_um_ratio = -5 #um\n",
    "mouse_offset = np.linspace(40,-40,9) * mouse_dF_to_um_ratio"
   ]
  },
  {
   "cell_type": "code",
   "execution_count": 8,
   "id": "2b5d1cd2",
   "metadata": {},
   "outputs": [
    {
     "name": "stdout",
     "output_type": "stream",
     "text": [
      "20211129 (68, 4, 4, 3, 4, 9)\n",
      "20211207 (112, 4, 4, 3, 4, 9)\n",
      "20211208 (113, 4, 4, 3, 4, 9)\n",
      "20221213 (56, 4, 4, 3, 4, 9)\n",
      "20221214 (81, 4, 4, 3, 4, 9)\n",
      "20230105 (143, 4, 4, 3, 4, 9)\n"
     ]
    }
   ],
   "source": [
    "local_spatial_contrast_SA_all_exps = []\n",
    "mean_intensity_SA_all_exps = []\n",
    "\n",
    "for iExp in range(len(experiments)):\n",
    "    exp = experiments[iExp]\n",
    "\n",
    "    local_contrasts = load_obj(rootF + 'contrast analysis/' + simulation + '_local_contrast_2sigma_liu2022_exp' + str(exp) + '.pkl')\n",
    "    mean_intensities = load_obj(rootF + '/contrast analysis/' + simulation + '_mean_intensities_2sigma_liu2022_exp' + str(exp) + '.pkl')\n",
    "    print (exp, local_contrasts.shape)\n",
    "    \n",
    "    local_spatial_contrast_SA_all_exps.append(local_contrasts)\n",
    "    mean_intensity_SA_all_exps.append(mean_intensities)"
   ]
  },
  {
   "cell_type": "markdown",
   "id": "04398ffe",
   "metadata": {},
   "source": [
    "### Selected cells"
   ]
  },
  {
   "cell_type": "code",
   "execution_count": 9,
   "id": "842f0ec0",
   "metadata": {
    "scrolled": true
   },
   "outputs": [
    {
     "name": "stdout",
     "output_type": "stream",
     "text": [
      "20211129 68\n",
      "20211207 112\n",
      "20211208 113\n",
      "20221213 56\n",
      "20221214 81\n",
      "20230105 143\n"
     ]
    }
   ],
   "source": [
    "cells_clustering_all_experiments = []\n",
    "\n",
    "for iExp in range(len(experiments)):\n",
    "    exp = experiments[iExp]\n",
    "\n",
    "    cells_clustering = load_obj(rootF + '/MEA/exp' + str(exp) + '/' + str(exp) + '_selected_cells_clustering')\n",
    "    cells_clustering = np.array(cells_clustering)\n",
    "    cells_clustering_all_experiments.append(cells_clustering)\n",
    "    print (exp, len(cells_clustering))"
   ]
  },
  {
   "cell_type": "code",
   "execution_count": 10,
   "id": "c88403e2",
   "metadata": {},
   "outputs": [],
   "source": [
    "# Skipped cells because of bad ellipse fitting\n",
    "\n",
    "skip_cells = np.array([[45, 80, 188, 192, 401, 408, 422, 525, 533, 558, 561, 614, 682], \n",
    "                       [33, 52, 145, 302, 340, 406, 414, 515],\n",
    "                       [99,100,276,407,424,452,472,498],\n",
    "                       [55, 180, 232, 294, 339, 365, 563, 570, 665, 680],\n",
    "                       [40, 190, 332, 957],\n",
    "                       [15, 96, 177, 221, 274, 320, 326, 389, 498, 558, 571, 689, 700, 791, 832, 856, 923, 928, 1018]], \n",
    "                      dtype='object')  "
   ]
  },
  {
   "cell_type": "markdown",
   "id": "ba451922",
   "metadata": {},
   "source": [
    "# Figure"
   ]
  },
  {
   "cell_type": "code",
   "execution_count": 13,
   "id": "7f247aac",
   "metadata": {},
   "outputs": [
    {
     "name": "stdout",
     "output_type": "stream",
     "text": [
      "460\n",
      "Total cell number: 511.0\n",
      "0 0 2011\n",
      "0 3 204\n",
      "2 0 1113\n",
      "2 3 262\n"
     ]
    },
    {
     "data": {
      "image/png": "[encoded data removed]",
      "text/plain": [
       "<Figure size 400x1000 with 13 Axes>"
      ]
     },
     "metadata": {},
     "output_type": "display_data"
    }
   ],
   "source": [
    "cols = ['C0','C1','C2','C3']\n",
    "colors = ['grey', 'black']\n",
    "SA_colors = ['purple', 'orangered']\n",
    "retina_ecc = ['Center', 'Periphery']\n",
    "retina_ecc_deg = ['0°', '20°']\n",
    "true_eye_SAs = [0.0, 0.33]\n",
    "\n",
    "idx_ref = 2\n",
    "\n",
    "fig = plt.figure(figsize=(4,10))\n",
    "GS = fig.add_gridspec(4, 1, height_ratios = [2.5,1,1.5,1])\n",
    "\n",
    "########################################### LSC, MI ######################################################\n",
    "\n",
    "iPup_exp = 0\n",
    "iEcc = 2\n",
    "\n",
    "gs = gridspec.GridSpecFromSubplotSpec(2, 2, subplot_spec=GS[0], wspace = 0.6, hspace = 0.5)\n",
    "\n",
    "#### Example cell\n",
    "iExp = 2\n",
    "exp = experiments[iExp]\n",
    "cell_nb = 460 \n",
    "index = np.where(cells_clustering_all_experiments[iExp] == cell_nb)[0][0]\n",
    "print (cell_nb)\n",
    "\n",
    "### Mean intensity vs defocus\n",
    "ax = fig.add_subplot(gs[0,0])\n",
    "ax.axvline(4, ymin=0, ymax=12, color='k', ls='--', alpha=0.2)\n",
    "for iImg in [0,2,3]:\n",
    "    ax.plot(mouse_offset, mean_intensity_all_exps[iExp][index,iImg,iPup_exp,iEcc,:], color=cols[iImg])\n",
    "ax.set_ylim(0, 0.025)\n",
    "ax.set_xlim(-200, 200)\n",
    "ax.set_yticks([0,0.01,0.02])\n",
    "ax.spines['top'].set_visible(False)\n",
    "ax.spines['right'].set_visible(False)\n",
    "ax.set_ylabel('MI')\n",
    "ax.set_xlabel('Defocus (µm)')\n",
    "ax.text(-400, 0.025, 'A', color='k', fontsize = 12, weight='bold')\n",
    "\n",
    "### Local contrast vs defocus\n",
    "ax = fig.add_subplot(gs[0,1])\n",
    "ax.axvline(4, ymin=0, ymax=12, color='k', ls='--', alpha=0.2)\n",
    "for iImg in [0,2,3]:\n",
    "    ax.plot(mouse_offset, local_spatial_contrast_all_exps[iExp][index,iImg,iPup_exp,iEcc,:], color=cols[iImg], \\\n",
    "                label='image {}'.format(images[iImg]))\n",
    "ax.set_ylim(0, 0.025)\n",
    "ax.set_xlim(-200,200)\n",
    "ax.set_yticks([0,0.01,0.02])\n",
    "ax.set_ylabel('LSC', labelpad=0)\n",
    "ax.set_xlabel('Defocus (µm)')\n",
    "ax.spines['top'].set_visible(False)\n",
    "ax.spines['right'].set_visible(False)\n",
    "\n",
    "##### Population\n",
    "\n",
    "### MI\n",
    "ax = fig.add_subplot(gs[1,0])\n",
    "ax.axvline(0, color='k',ls='--',alpha=0.3)\n",
    "for src in [0,2]:    \n",
    "    delta_contrast = []\n",
    "    for iExp in range(len(experiments)):\n",
    "        for index in range(len(cells_clustering_all_experiments[iExp])):\n",
    "            cell_nb = cells_clustering_all_experiments[iExp][index]\n",
    "            if cell_nb not in skip_cells[iExp]:\n",
    "                for iImg in range(Nimgs):\n",
    "                    delta_contrast.append(mean_intensity_all_exps[iExp][index,iImg,iPup_exp,src,-1]- \\\n",
    "                                          mean_intensity_all_exps[iExp][index,iImg,iPup_exp,src,idx_ref])\n",
    "    ax.hist(delta_contrast, bins=30, histtype='step', stacked=True, color=colors[int(src/2)], \\\n",
    "               label = retina_ecc[int(src/2)])\n",
    "ax.set_ylabel('Counts')\n",
    "ax.set_xlabel('$\\Delta$ MI')\n",
    "ax.set_xlim(-0.025,0.025)\n",
    "ax.set_ylim(0, 500)\n",
    "ax.spines['top'].set_visible(False)\n",
    "ax.spines['right'].set_visible(False)\n",
    "ax.legend(frameon=False, fontsize=8, bbox_to_anchor=(0.545, 1.1))\n",
    "ax.text(-0.05, 500, 'B', color='k', fontsize = 12, weight='bold')\n",
    "    \n",
    "# ### LSC\n",
    "N = 0\n",
    "ax = fig.add_subplot(gs[1,1])\n",
    "ax.axvline(0, color='k',ls='--',alpha=0.3)\n",
    "for src in [0,2]:    \n",
    "    delta_contrast = []\n",
    "    for iExp in range(len(experiments)):\n",
    "        for index in range(len(cells_clustering_all_experiments[iExp])):\n",
    "            cell_nb = cells_clustering_all_experiments[iExp][index]\n",
    "            if cell_nb not in skip_cells[iExp]:\n",
    "                N += 1\n",
    "                for iImg in range(Nimgs):\n",
    "                    delta_contrast.append(local_spatial_contrast_all_exps[iExp][index,iImg,iPup_exp,src,-1]- \\\n",
    "                                          local_spatial_contrast_all_exps[iExp][index,iImg,iPup_exp,src,idx_ref])\n",
    "    ax.hist(delta_contrast, bins=30, histtype='step', stacked=True, color=colors[int(src/2)], \\\n",
    "               label = retina_ecc[int(src/2)])\n",
    "ax.set_xlabel('$\\Delta$ LSC')\n",
    "ax.set_xlim(-0.04,0.005)\n",
    "ax.spines['top'].set_visible(False)\n",
    "ax.spines['right'].set_visible(False)\n",
    "\n",
    "print ('Total cell number:', N/2)\n",
    "\n",
    "#################################### SPHERICAL ABERRATIONS #########################################\n",
    "\n",
    "iPup = 1\n",
    "iEcc_psf = 0\n",
    "pup = pup_diams[iPup]\n",
    "ecc = sources_ecc[iEcc_psf]\n",
    "\n",
    "##### Blank space for illustration\n",
    "\n",
    "gs = gridspec.GridSpecFromSubplotSpec(1, 1, subplot_spec=GS[1])\n",
    "\n",
    "ax = fig.add_subplot(gs[0])\n",
    "ax.set_xlim(0,1)\n",
    "ax.set_ylim(0,1)\n",
    "ax.axis('off')\n",
    "ax.text(-0.2, 1, 'C', color='k', fontsize = 12, weight='bold')\n",
    "\n",
    "##### Plots\n",
    "\n",
    "gs = gridspec.GridSpecFromSubplotSpec(2, 3, subplot_spec=GS[2], wspace = 0.25, hspace=0.1)\n",
    "\n",
    "##### PSFs\n",
    "iSA = 3\n",
    "eye_SA = eye_SAs[iSA]\n",
    "# JobId\n",
    "job_id = int(JobIds[np.where((simulation_parameters['c04tg'] == eye_SA) & \\\n",
    "                      (simulation_parameters['pupDiam_mm'] == pup) & \\\n",
    "                      (simulation_parameters['sourceEccen_deg'] == ecc))[0]][0])\n",
    "for idF in [0,4,8]:\n",
    "    dF = offset_diopter[idF]\n",
    "    psf = np.load(path_to_PSFs + '/polychromatic_PSF_Job' + \\\n",
    "                str(job_id).zfill(6) + '_offset{}'.format(idF) +'.npy') \n",
    "    ax = fig.add_subplot(gs[0,int(idF/4)])\n",
    "    ax.imshow(np.log(psf+1), origin='lower',cmap='gray')\n",
    "    ax.set_yticks([])\n",
    "    ax.set_xticks([])\n",
    "    ax.set_xlim(128, 512-128)\n",
    "    ax.set_ylim(128, 512-128)\n",
    "    if idF == 0:\n",
    "        ax.set_ylabel('SA = {} µm'.format(true_eye_SAs[int(iSA/2)]), color='orangered')\n",
    "        ax.text(-50, psf.shape[0]-128, 'D', color='k', fontsize = 12, weight='bold')\n",
    "    ax.spines['bottom'].set_color('orangered')\n",
    "    ax.spines['top'].set_color('orangered')\n",
    "    ax.spines['left'].set_color('orangered')\n",
    "    ax.spines['right'].set_color('orangered')\n",
    "    ax.spines['bottom'].set_linewidth(3)\n",
    "    ax.spines['top'].set_linewidth(3)\n",
    "    ax.spines['left'].set_linewidth(3)\n",
    "    ax.spines['right'].set_linewidth(3)\n",
    "    \n",
    "    # Scale bar\n",
    "    if idF == 0:\n",
    "        scalebar = AnchoredSizeBar(ax.transData, 50, '', 'upper left',pad=0.5,color='white',frameon=False, sep=5, \\\n",
    "                       size_vertical=2)\n",
    "        ax.add_artist(scalebar)\n",
    "\n",
    "iSA = 0\n",
    "eye_SA = eye_SAs[iSA]\n",
    "job_id = int(JobIds[np.where((simulation_parameters['c04tg'] == eye_SA) & \\\n",
    "                      (simulation_parameters['pupDiam_mm'] == pup) & \\\n",
    "                      (simulation_parameters['sourceEccen_deg'] == ecc))[0]][0])\n",
    "for idF in [0,4,8]:\n",
    "    dF = offset_diopter[idF]\n",
    "    psf = np.load(path_to_PSFs + '/polychromatic_PSF_Job' + \\\n",
    "                str(job_id).zfill(6) + '_offset{}'.format(idF) +'.npy') \n",
    "    ax = fig.add_subplot(gs[1,int(idF/4)])\n",
    "    ax.imshow(np.log(psf+1), origin='lower',cmap='gray')\n",
    "    ax.set_xlim(128, 512-128)\n",
    "    ax.set_ylim(128, 512-128)\n",
    "    ax.set_yticks([])\n",
    "    ax.set_xticks([])\n",
    "    if idF == 0:\n",
    "        ax.set_ylabel('SA = 0 µm', color='purple')\n",
    "    ax.spines['bottom'].set_color('purple')\n",
    "    ax.spines['top'].set_color('purple')\n",
    "    ax.spines['left'].set_color('purple')\n",
    "    ax.spines['right'].set_color('purple')\n",
    "    ax.spines['bottom'].set_linewidth(3)\n",
    "    ax.spines['top'].set_linewidth(3)\n",
    "    ax.spines['left'].set_linewidth(3)\n",
    "    ax.spines['right'].set_linewidth(3)\n",
    "\n",
    "##### Histos delta LSC\n",
    "\n",
    "gs = gridspec.GridSpecFromSubplotSpec(1, 2, subplot_spec=GS[3], wspace = 0.35)\n",
    "\n",
    "lim_inf = -0.041\n",
    "lim_sup = 0.007\n",
    "bin_size = 0.001\n",
    "n_bins = int((lim_sup-lim_inf)/bin_size)\n",
    "bins = np.arange(lim_inf, lim_sup,bin_size)\n",
    "\n",
    "for iEcc in [0,2]:\n",
    "    ax = fig.add_subplot(gs[int(iEcc/2)])\n",
    "    ax.set_title(retina_ecc[int(iEcc/2)])\n",
    "    ax.axvline(0, color='k',ls='--',alpha=0.3)\n",
    "    for iSA in [0,3]:\n",
    "        delta_contrast = []\n",
    "        for iExp in range(len(experiments)): \n",
    "            for index in range(len(cells_clustering_all_experiments[iExp])):\n",
    "                cell_nb = cells_clustering_all_experiments[iExp][index]\n",
    "                if cell_nb not in skip_cells[iExp]:\n",
    "                    for iImg in range(Nimgs):\n",
    "                        delta_contrast.append(local_spatial_contrast_SA_all_exps[iExp][index,iSA,iImg,iPup,iEcc,-1]- \\\n",
    "                                        local_spatial_contrast_SA_all_exps[iExp][index,iSA,iImg,iPup,iEcc,idx_ref])\n",
    "        ax.hist(delta_contrast, bins=bins, color=SA_colors[int(iSA/2)], alpha=0.5,\\\n",
    "               label = '{} µm'.format(true_eye_SAs[int(iSA/2)]))\n",
    "        print (iEcc, iSA, max(np.histogram(np.array(delta_contrast), bins=bins)[0]))\n",
    "    ax.set_xlabel('$\\Delta$ LSC')\n",
    "    ax.set_xlim(lim_inf, lim_sup)\n",
    "    ax.set_ylim(0, 500)\n",
    "    ax.set_yticks([0,200,400,500])\n",
    "    ax.spines['top'].set_visible(False)\n",
    "    ax.spines['right'].set_visible(False)\n",
    "    if iEcc == 0:\n",
    "        ax.text(-0.062, 550, 'E', color='k', fontsize = 12, weight='bold')\n",
    "        ax.set_ylabel('Counts')\n",
    "        ax.set_yticklabels(['0', '200', '400', '2011'])\n",
    "        ax.legend(frameon=False, fontsize = 8)\n",
    "    else:\n",
    "        ax.set_yticklabels(['0', '200', '400', '1113'])\n",
    "\n",
    "plt.tight_layout()\n",
    "plt.show()\n",
    "    \n",
    "### Save figure\n",
    "fsave = 'T:/Documents/Papier defocus/figures/papier/'\n",
    "# fig.savefig(fsave+'Fig5_raw_v2.png', format='png', dpi=300)"
   ]
  },
  {
   "cell_type": "code",
   "execution_count": null,
   "id": "0c44a943",
   "metadata": {},
   "outputs": [],
   "source": []
  }
 ],
 "metadata": {
  "kernelspec": {
   "display_name": "Python 3 (ipykernel)",
   "language": "python",
   "name": "python3"
  },
  "language_info": {
   "codemirror_mode": {
    "name": "ipython",
    "version": 3
   },
   "file_extension": ".py",
   "mimetype": "text/x-python",
   "name": "python",
   "nbconvert_exporter": "python",
   "pygments_lexer": "ipython3",
   "version": "3.11.5"
  },
  "vscode": {
   "interpreter": {
    "hash": "c7b198c0a426d7298fddf8cb5f508b6bbbfc9c73f903b8c9c1d571059dc9c338"
   }
  }
 },
 "nbformat": 4,
 "nbformat_minor": 5
}
